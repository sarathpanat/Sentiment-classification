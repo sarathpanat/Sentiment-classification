{
  "nbformat": 4,
  "nbformat_minor": 0,
  "metadata": {
    "colab": {
      "name": "live coding albert.ipynb",
      "provenance": [],
      "collapsed_sections": [],
      "authorship_tag": "ABX9TyObG/g+teKrN3NMhFJWVmBP",
      "include_colab_link": true
    },
    "kernelspec": {
      "name": "python3",
      "display_name": "Python 3"
    },
    "accelerator": "GPU"
  },
  "cells": [
    {
      "cell_type": "markdown",
      "metadata": {
        "id": "view-in-github",
        "colab_type": "text"
      },
      "source": [
        "<a href=\"https://colab.research.google.com/github/sarathpanat/Sentiment-classification/blob/main/albert.ipynb\" target=\"_parent\"><img src=\"https://colab.research.google.com/assets/colab-badge.svg\" alt=\"Open In Colab\"/></a>"
      ]
    },
    {
      "cell_type": "code",
      "metadata": {
        "id": "qxOdV5imQnHb"
      },
      "source": [
        "#sentiment classification using hugging face transformers"
      ],
      "execution_count": null,
      "outputs": []
    },
    {
      "cell_type": "code",
      "metadata": {
        "id": "894368XvQ-Ii"
      },
      "source": [
        "#1.install packages"
      ],
      "execution_count": null,
      "outputs": []
    },
    {
      "cell_type": "code",
      "metadata": {
        "colab": {
          "base_uri": "https://localhost:8080/"
        },
        "id": "ftL8sbrbS0UG",
        "outputId": "3db7d75c-6f69-4a8f-8197-730d966f0255"
      },
      "source": [
        "!pip install -q kaggle\r\n",
        "!pip install transformers\r\n",
        "!pip install sentencepiece"
      ],
      "execution_count": null,
      "outputs": [
        {
          "output_type": "stream",
          "text": [
            "Collecting transformers\n",
            "\u001b[?25l  Downloading https://files.pythonhosted.org/packages/88/b1/41130a228dd656a1a31ba281598a968320283f48d42782845f6ba567f00b/transformers-4.2.2-py3-none-any.whl (1.8MB)\n",
            "\r\u001b[K     |▏                               | 10kB 18.9MB/s eta 0:00:01\r\u001b[K     |▍                               | 20kB 16.7MB/s eta 0:00:01\r\u001b[K     |▋                               | 30kB 14.1MB/s eta 0:00:01\r\u001b[K     |▊                               | 40kB 12.8MB/s eta 0:00:01\r\u001b[K     |█                               | 51kB 8.8MB/s eta 0:00:01\r\u001b[K     |█▏                              | 61kB 8.1MB/s eta 0:00:01\r\u001b[K     |█▎                              | 71kB 9.2MB/s eta 0:00:01\r\u001b[K     |█▌                              | 81kB 10.2MB/s eta 0:00:01\r\u001b[K     |█▊                              | 92kB 9.2MB/s eta 0:00:01\r\u001b[K     |█▉                              | 102kB 8.3MB/s eta 0:00:01\r\u001b[K     |██                              | 112kB 8.3MB/s eta 0:00:01\r\u001b[K     |██▎                             | 122kB 8.3MB/s eta 0:00:01\r\u001b[K     |██▍                             | 133kB 8.3MB/s eta 0:00:01\r\u001b[K     |██▋                             | 143kB 8.3MB/s eta 0:00:01\r\u001b[K     |██▉                             | 153kB 8.3MB/s eta 0:00:01\r\u001b[K     |███                             | 163kB 8.3MB/s eta 0:00:01\r\u001b[K     |███▏                            | 174kB 8.3MB/s eta 0:00:01\r\u001b[K     |███▍                            | 184kB 8.3MB/s eta 0:00:01\r\u001b[K     |███▌                            | 194kB 8.3MB/s eta 0:00:01\r\u001b[K     |███▊                            | 204kB 8.3MB/s eta 0:00:01\r\u001b[K     |████                            | 215kB 8.3MB/s eta 0:00:01\r\u001b[K     |████                            | 225kB 8.3MB/s eta 0:00:01\r\u001b[K     |████▎                           | 235kB 8.3MB/s eta 0:00:01\r\u001b[K     |████▌                           | 245kB 8.3MB/s eta 0:00:01\r\u001b[K     |████▋                           | 256kB 8.3MB/s eta 0:00:01\r\u001b[K     |████▉                           | 266kB 8.3MB/s eta 0:00:01\r\u001b[K     |█████                           | 276kB 8.3MB/s eta 0:00:01\r\u001b[K     |█████▏                          | 286kB 8.3MB/s eta 0:00:01\r\u001b[K     |█████▍                          | 296kB 8.3MB/s eta 0:00:01\r\u001b[K     |█████▋                          | 307kB 8.3MB/s eta 0:00:01\r\u001b[K     |█████▊                          | 317kB 8.3MB/s eta 0:00:01\r\u001b[K     |██████                          | 327kB 8.3MB/s eta 0:00:01\r\u001b[K     |██████▏                         | 337kB 8.3MB/s eta 0:00:01\r\u001b[K     |██████▎                         | 348kB 8.3MB/s eta 0:00:01\r\u001b[K     |██████▌                         | 358kB 8.3MB/s eta 0:00:01\r\u001b[K     |██████▊                         | 368kB 8.3MB/s eta 0:00:01\r\u001b[K     |██████▉                         | 378kB 8.3MB/s eta 0:00:01\r\u001b[K     |███████                         | 389kB 8.3MB/s eta 0:00:01\r\u001b[K     |███████▎                        | 399kB 8.3MB/s eta 0:00:01\r\u001b[K     |███████▍                        | 409kB 8.3MB/s eta 0:00:01\r\u001b[K     |███████▋                        | 419kB 8.3MB/s eta 0:00:01\r\u001b[K     |███████▉                        | 430kB 8.3MB/s eta 0:00:01\r\u001b[K     |████████                        | 440kB 8.3MB/s eta 0:00:01\r\u001b[K     |████████▏                       | 450kB 8.3MB/s eta 0:00:01\r\u001b[K     |████████▍                       | 460kB 8.3MB/s eta 0:00:01\r\u001b[K     |████████▌                       | 471kB 8.3MB/s eta 0:00:01\r\u001b[K     |████████▊                       | 481kB 8.3MB/s eta 0:00:01\r\u001b[K     |█████████                       | 491kB 8.3MB/s eta 0:00:01\r\u001b[K     |█████████                       | 501kB 8.3MB/s eta 0:00:01\r\u001b[K     |█████████▎                      | 512kB 8.3MB/s eta 0:00:01\r\u001b[K     |█████████▌                      | 522kB 8.3MB/s eta 0:00:01\r\u001b[K     |█████████▋                      | 532kB 8.3MB/s eta 0:00:01\r\u001b[K     |█████████▉                      | 542kB 8.3MB/s eta 0:00:01\r\u001b[K     |██████████                      | 552kB 8.3MB/s eta 0:00:01\r\u001b[K     |██████████▏                     | 563kB 8.3MB/s eta 0:00:01\r\u001b[K     |██████████▍                     | 573kB 8.3MB/s eta 0:00:01\r\u001b[K     |██████████▋                     | 583kB 8.3MB/s eta 0:00:01\r\u001b[K     |██████████▊                     | 593kB 8.3MB/s eta 0:00:01\r\u001b[K     |███████████                     | 604kB 8.3MB/s eta 0:00:01\r\u001b[K     |███████████▏                    | 614kB 8.3MB/s eta 0:00:01\r\u001b[K     |███████████▎                    | 624kB 8.3MB/s eta 0:00:01\r\u001b[K     |███████████▌                    | 634kB 8.3MB/s eta 0:00:01\r\u001b[K     |███████████▊                    | 645kB 8.3MB/s eta 0:00:01\r\u001b[K     |███████████▉                    | 655kB 8.3MB/s eta 0:00:01\r\u001b[K     |████████████                    | 665kB 8.3MB/s eta 0:00:01\r\u001b[K     |████████████▎                   | 675kB 8.3MB/s eta 0:00:01\r\u001b[K     |████████████▍                   | 686kB 8.3MB/s eta 0:00:01\r\u001b[K     |████████████▋                   | 696kB 8.3MB/s eta 0:00:01\r\u001b[K     |████████████▉                   | 706kB 8.3MB/s eta 0:00:01\r\u001b[K     |█████████████                   | 716kB 8.3MB/s eta 0:00:01\r\u001b[K     |█████████████▏                  | 727kB 8.3MB/s eta 0:00:01\r\u001b[K     |█████████████▍                  | 737kB 8.3MB/s eta 0:00:01\r\u001b[K     |█████████████▌                  | 747kB 8.3MB/s eta 0:00:01\r\u001b[K     |█████████████▊                  | 757kB 8.3MB/s eta 0:00:01\r\u001b[K     |██████████████                  | 768kB 8.3MB/s eta 0:00:01\r\u001b[K     |██████████████                  | 778kB 8.3MB/s eta 0:00:01\r\u001b[K     |██████████████▎                 | 788kB 8.3MB/s eta 0:00:01\r\u001b[K     |██████████████▌                 | 798kB 8.3MB/s eta 0:00:01\r\u001b[K     |██████████████▋                 | 808kB 8.3MB/s eta 0:00:01\r\u001b[K     |██████████████▉                 | 819kB 8.3MB/s eta 0:00:01\r\u001b[K     |███████████████                 | 829kB 8.3MB/s eta 0:00:01\r\u001b[K     |███████████████▏                | 839kB 8.3MB/s eta 0:00:01\r\u001b[K     |███████████████▍                | 849kB 8.3MB/s eta 0:00:01\r\u001b[K     |███████████████▋                | 860kB 8.3MB/s eta 0:00:01\r\u001b[K     |███████████████▊                | 870kB 8.3MB/s eta 0:00:01\r\u001b[K     |████████████████                | 880kB 8.3MB/s eta 0:00:01\r\u001b[K     |████████████████▏               | 890kB 8.3MB/s eta 0:00:01\r\u001b[K     |████████████████▎               | 901kB 8.3MB/s eta 0:00:01\r\u001b[K     |████████████████▌               | 911kB 8.3MB/s eta 0:00:01\r\u001b[K     |████████████████▊               | 921kB 8.3MB/s eta 0:00:01\r\u001b[K     |████████████████▉               | 931kB 8.3MB/s eta 0:00:01\r\u001b[K     |█████████████████               | 942kB 8.3MB/s eta 0:00:01\r\u001b[K     |█████████████████▎              | 952kB 8.3MB/s eta 0:00:01\r\u001b[K     |█████████████████▍              | 962kB 8.3MB/s eta 0:00:01\r\u001b[K     |█████████████████▋              | 972kB 8.3MB/s eta 0:00:01\r\u001b[K     |█████████████████▉              | 983kB 8.3MB/s eta 0:00:01\r\u001b[K     |██████████████████              | 993kB 8.3MB/s eta 0:00:01\r\u001b[K     |██████████████████▏             | 1.0MB 8.3MB/s eta 0:00:01\r\u001b[K     |██████████████████▍             | 1.0MB 8.3MB/s eta 0:00:01\r\u001b[K     |██████████████████▌             | 1.0MB 8.3MB/s eta 0:00:01\r\u001b[K     |██████████████████▊             | 1.0MB 8.3MB/s eta 0:00:01\r\u001b[K     |███████████████████             | 1.0MB 8.3MB/s eta 0:00:01\r\u001b[K     |███████████████████             | 1.1MB 8.3MB/s eta 0:00:01\r\u001b[K     |███████████████████▎            | 1.1MB 8.3MB/s eta 0:00:01\r\u001b[K     |███████████████████▌            | 1.1MB 8.3MB/s eta 0:00:01\r\u001b[K     |███████████████████▋            | 1.1MB 8.3MB/s eta 0:00:01\r\u001b[K     |███████████████████▉            | 1.1MB 8.3MB/s eta 0:00:01\r\u001b[K     |████████████████████            | 1.1MB 8.3MB/s eta 0:00:01\r\u001b[K     |████████████████████▏           | 1.1MB 8.3MB/s eta 0:00:01\r\u001b[K     |████████████████████▍           | 1.1MB 8.3MB/s eta 0:00:01\r\u001b[K     |████████████████████▋           | 1.1MB 8.3MB/s eta 0:00:01\r\u001b[K     |████████████████████▊           | 1.1MB 8.3MB/s eta 0:00:01\r\u001b[K     |█████████████████████           | 1.2MB 8.3MB/s eta 0:00:01\r\u001b[K     |█████████████████████▏          | 1.2MB 8.3MB/s eta 0:00:01\r\u001b[K     |█████████████████████▎          | 1.2MB 8.3MB/s eta 0:00:01\r\u001b[K     |█████████████████████▌          | 1.2MB 8.3MB/s eta 0:00:01\r\u001b[K     |█████████████████████▊          | 1.2MB 8.3MB/s eta 0:00:01\r\u001b[K     |█████████████████████▉          | 1.2MB 8.3MB/s eta 0:00:01\r\u001b[K     |██████████████████████          | 1.2MB 8.3MB/s eta 0:00:01\r\u001b[K     |██████████████████████▎         | 1.2MB 8.3MB/s eta 0:00:01\r\u001b[K     |██████████████████████▍         | 1.2MB 8.3MB/s eta 0:00:01\r\u001b[K     |██████████████████████▋         | 1.2MB 8.3MB/s eta 0:00:01\r\u001b[K     |██████████████████████▉         | 1.3MB 8.3MB/s eta 0:00:01\r\u001b[K     |███████████████████████         | 1.3MB 8.3MB/s eta 0:00:01\r\u001b[K     |███████████████████████▏        | 1.3MB 8.3MB/s eta 0:00:01\r\u001b[K     |███████████████████████▍        | 1.3MB 8.3MB/s eta 0:00:01\r\u001b[K     |███████████████████████▌        | 1.3MB 8.3MB/s eta 0:00:01\r\u001b[K     |███████████████████████▊        | 1.3MB 8.3MB/s eta 0:00:01\r\u001b[K     |████████████████████████        | 1.3MB 8.3MB/s eta 0:00:01\r\u001b[K     |████████████████████████        | 1.3MB 8.3MB/s eta 0:00:01\r\u001b[K     |████████████████████████▎       | 1.3MB 8.3MB/s eta 0:00:01\r\u001b[K     |████████████████████████▌       | 1.4MB 8.3MB/s eta 0:00:01\r\u001b[K     |████████████████████████▊       | 1.4MB 8.3MB/s eta 0:00:01\r\u001b[K     |████████████████████████▉       | 1.4MB 8.3MB/s eta 0:00:01\r\u001b[K     |█████████████████████████       | 1.4MB 8.3MB/s eta 0:00:01\r\u001b[K     |█████████████████████████▎      | 1.4MB 8.3MB/s eta 0:00:01\r\u001b[K     |█████████████████████████▍      | 1.4MB 8.3MB/s eta 0:00:01\r\u001b[K     |█████████████████████████▋      | 1.4MB 8.3MB/s eta 0:00:01\r\u001b[K     |█████████████████████████▉      | 1.4MB 8.3MB/s eta 0:00:01\r\u001b[K     |██████████████████████████      | 1.4MB 8.3MB/s eta 0:00:01\r\u001b[K     |██████████████████████████▏     | 1.4MB 8.3MB/s eta 0:00:01\r\u001b[K     |██████████████████████████▍     | 1.5MB 8.3MB/s eta 0:00:01\r\u001b[K     |██████████████████████████▌     | 1.5MB 8.3MB/s eta 0:00:01\r\u001b[K     |██████████████████████████▊     | 1.5MB 8.3MB/s eta 0:00:01\r\u001b[K     |███████████████████████████     | 1.5MB 8.3MB/s eta 0:00:01\r\u001b[K     |███████████████████████████     | 1.5MB 8.3MB/s eta 0:00:01\r\u001b[K     |███████████████████████████▎    | 1.5MB 8.3MB/s eta 0:00:01\r\u001b[K     |███████████████████████████▌    | 1.5MB 8.3MB/s eta 0:00:01\r\u001b[K     |███████████████████████████▋    | 1.5MB 8.3MB/s eta 0:00:01\r\u001b[K     |███████████████████████████▉    | 1.5MB 8.3MB/s eta 0:00:01\r\u001b[K     |████████████████████████████    | 1.5MB 8.3MB/s eta 0:00:01\r\u001b[K     |████████████████████████████▏   | 1.6MB 8.3MB/s eta 0:00:01\r\u001b[K     |████████████████████████████▍   | 1.6MB 8.3MB/s eta 0:00:01\r\u001b[K     |████████████████████████████▋   | 1.6MB 8.3MB/s eta 0:00:01\r\u001b[K     |████████████████████████████▊   | 1.6MB 8.3MB/s eta 0:00:01\r\u001b[K     |█████████████████████████████   | 1.6MB 8.3MB/s eta 0:00:01\r\u001b[K     |█████████████████████████████▏  | 1.6MB 8.3MB/s eta 0:00:01\r\u001b[K     |█████████████████████████████▎  | 1.6MB 8.3MB/s eta 0:00:01\r\u001b[K     |█████████████████████████████▌  | 1.6MB 8.3MB/s eta 0:00:01\r\u001b[K     |█████████████████████████████▊  | 1.6MB 8.3MB/s eta 0:00:01\r\u001b[K     |█████████████████████████████▉  | 1.6MB 8.3MB/s eta 0:00:01\r\u001b[K     |██████████████████████████████  | 1.7MB 8.3MB/s eta 0:00:01\r\u001b[K     |██████████████████████████████▎ | 1.7MB 8.3MB/s eta 0:00:01\r\u001b[K     |██████████████████████████████▍ | 1.7MB 8.3MB/s eta 0:00:01\r\u001b[K     |██████████████████████████████▋ | 1.7MB 8.3MB/s eta 0:00:01\r\u001b[K     |██████████████████████████████▉ | 1.7MB 8.3MB/s eta 0:00:01\r\u001b[K     |███████████████████████████████ | 1.7MB 8.3MB/s eta 0:00:01\r\u001b[K     |███████████████████████████████▏| 1.7MB 8.3MB/s eta 0:00:01\r\u001b[K     |███████████████████████████████▍| 1.7MB 8.3MB/s eta 0:00:01\r\u001b[K     |███████████████████████████████▌| 1.7MB 8.3MB/s eta 0:00:01\r\u001b[K     |███████████████████████████████▊| 1.8MB 8.3MB/s eta 0:00:01\r\u001b[K     |████████████████████████████████| 1.8MB 8.3MB/s eta 0:00:01\r\u001b[K     |████████████████████████████████| 1.8MB 8.3MB/s \n",
            "\u001b[?25hRequirement already satisfied: numpy in /usr/local/lib/python3.6/dist-packages (from transformers) (1.19.5)\n",
            "Requirement already satisfied: dataclasses; python_version < \"3.7\" in /usr/local/lib/python3.6/dist-packages (from transformers) (0.8)\n",
            "Collecting tokenizers==0.9.4\n",
            "\u001b[?25l  Downloading https://files.pythonhosted.org/packages/0f/1c/e789a8b12e28be5bc1ce2156cf87cb522b379be9cadc7ad8091a4cc107c4/tokenizers-0.9.4-cp36-cp36m-manylinux2010_x86_64.whl (2.9MB)\n",
            "\u001b[K     |████████████████████████████████| 2.9MB 50.8MB/s \n",
            "\u001b[?25hRequirement already satisfied: packaging in /usr/local/lib/python3.6/dist-packages (from transformers) (20.9)\n",
            "Requirement already satisfied: regex!=2019.12.17 in /usr/local/lib/python3.6/dist-packages (from transformers) (2019.12.20)\n",
            "Collecting sacremoses\n",
            "\u001b[?25l  Downloading https://files.pythonhosted.org/packages/7d/34/09d19aff26edcc8eb2a01bed8e98f13a1537005d31e95233fd48216eed10/sacremoses-0.0.43.tar.gz (883kB)\n",
            "\u001b[K     |████████████████████████████████| 890kB 56.3MB/s \n",
            "\u001b[?25hRequirement already satisfied: importlib-metadata; python_version < \"3.8\" in /usr/local/lib/python3.6/dist-packages (from transformers) (3.4.0)\n",
            "Requirement already satisfied: filelock in /usr/local/lib/python3.6/dist-packages (from transformers) (3.0.12)\n",
            "Requirement already satisfied: tqdm>=4.27 in /usr/local/lib/python3.6/dist-packages (from transformers) (4.41.1)\n",
            "Requirement already satisfied: requests in /usr/local/lib/python3.6/dist-packages (from transformers) (2.23.0)\n",
            "Requirement already satisfied: pyparsing>=2.0.2 in /usr/local/lib/python3.6/dist-packages (from packaging->transformers) (2.4.7)\n",
            "Requirement already satisfied: six in /usr/local/lib/python3.6/dist-packages (from sacremoses->transformers) (1.15.0)\n",
            "Requirement already satisfied: click in /usr/local/lib/python3.6/dist-packages (from sacremoses->transformers) (7.1.2)\n",
            "Requirement already satisfied: joblib in /usr/local/lib/python3.6/dist-packages (from sacremoses->transformers) (1.0.0)\n",
            "Requirement already satisfied: zipp>=0.5 in /usr/local/lib/python3.6/dist-packages (from importlib-metadata; python_version < \"3.8\"->transformers) (3.4.0)\n",
            "Requirement already satisfied: typing-extensions>=3.6.4; python_version < \"3.8\" in /usr/local/lib/python3.6/dist-packages (from importlib-metadata; python_version < \"3.8\"->transformers) (3.7.4.3)\n",
            "Requirement already satisfied: idna<3,>=2.5 in /usr/local/lib/python3.6/dist-packages (from requests->transformers) (2.10)\n",
            "Requirement already satisfied: certifi>=2017.4.17 in /usr/local/lib/python3.6/dist-packages (from requests->transformers) (2020.12.5)\n",
            "Requirement already satisfied: chardet<4,>=3.0.2 in /usr/local/lib/python3.6/dist-packages (from requests->transformers) (3.0.4)\n",
            "Requirement already satisfied: urllib3!=1.25.0,!=1.25.1,<1.26,>=1.21.1 in /usr/local/lib/python3.6/dist-packages (from requests->transformers) (1.24.3)\n",
            "Building wheels for collected packages: sacremoses\n",
            "  Building wheel for sacremoses (setup.py) ... \u001b[?25l\u001b[?25hdone\n",
            "  Created wheel for sacremoses: filename=sacremoses-0.0.43-cp36-none-any.whl size=893261 sha256=d3f057ac19d7b292c1694a579581d7c6591838ad410d80f6f1d0212c87d9d1f8\n",
            "  Stored in directory: /root/.cache/pip/wheels/29/3c/fd/7ce5c3f0666dab31a50123635e6fb5e19ceb42ce38d4e58f45\n",
            "Successfully built sacremoses\n",
            "Installing collected packages: tokenizers, sacremoses, transformers\n",
            "Successfully installed sacremoses-0.0.43 tokenizers-0.9.4 transformers-4.2.2\n",
            "Collecting sentencepiece\n",
            "\u001b[?25l  Downloading https://files.pythonhosted.org/packages/14/67/e42bd1181472c95c8cda79305df848264f2a7f62740995a46945d9797b67/sentencepiece-0.1.95-cp36-cp36m-manylinux2014_x86_64.whl (1.2MB)\n",
            "\u001b[K     |████████████████████████████████| 1.2MB 8.2MB/s \n",
            "\u001b[?25hInstalling collected packages: sentencepiece\n",
            "Successfully installed sentencepiece-0.1.95\n"
          ],
          "name": "stdout"
        }
      ]
    },
    {
      "cell_type": "code",
      "metadata": {
        "id": "N-4N2JQRS3OA"
      },
      "source": [
        ""
      ],
      "execution_count": null,
      "outputs": []
    },
    {
      "cell_type": "code",
      "metadata": {
        "id": "BZJcxub2SZDV"
      },
      "source": [
        "#2.connect kaggle with colab and import data"
      ],
      "execution_count": null,
      "outputs": []
    },
    {
      "cell_type": "code",
      "metadata": {
        "colab": {
          "resources": {
            "http://localhost:8080/nbextensions/google.colab/files.js": {
              "data": "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",
              "ok": true,
              "headers": [
                [
                  "content-type",
                  "application/javascript"
                ]
              ],
              "status": 200,
              "status_text": ""
            }
          },
          "base_uri": "https://localhost:8080/",
          "height": 89
        },
        "id": "63Uz9zDVS3xE",
        "outputId": "dcd85a34-73ad-4f0c-efb3-3bed6513ed99"
      },
      "source": [
        "from google.colab import files\r\n",
        "files.upload()"
      ],
      "execution_count": null,
      "outputs": [
        {
          "output_type": "display_data",
          "data": {
            "text/html": [
              "\n",
              "     <input type=\"file\" id=\"files-86ebf8e4-21b3-43c5-9c90-3b505bf256be\" name=\"files[]\" multiple disabled\n",
              "        style=\"border:none\" />\n",
              "     <output id=\"result-86ebf8e4-21b3-43c5-9c90-3b505bf256be\">\n",
              "      Upload widget is only available when the cell has been executed in the\n",
              "      current browser session. Please rerun this cell to enable.\n",
              "      </output>\n",
              "      <script src=\"/nbextensions/google.colab/files.js\"></script> "
            ],
            "text/plain": [
              "<IPython.core.display.HTML object>"
            ]
          },
          "metadata": {
            "tags": []
          }
        },
        {
          "output_type": "stream",
          "text": [
            "Saving kaggle.json to kaggle.json\n"
          ],
          "name": "stdout"
        },
        {
          "output_type": "execute_result",
          "data": {
            "text/plain": [
              "{'kaggle.json': b'{\"username\":\"sarathpanat\",\"key\":\"b934fc5effb401610cfe8a41e461b02a\"}'}"
            ]
          },
          "metadata": {
            "tags": []
          },
          "execution_count": 8
        }
      ]
    },
    {
      "cell_type": "code",
      "metadata": {
        "id": "8-DCJOLCT9DB"
      },
      "source": [
        "!mkdir ~/.kaggle\r\n",
        "!cp kaggle.json ~/.kaggle/\r\n",
        "!chmod 600 ~/.kaggle/kaggle.json"
      ],
      "execution_count": null,
      "outputs": []
    },
    {
      "cell_type": "code",
      "metadata": {
        "colab": {
          "base_uri": "https://localhost:8080/"
        },
        "id": "myHJDtyiUPoP",
        "outputId": "57679800-0b7e-481a-c0f5-d2b44f9d0078"
      },
      "source": [
        "!kaggle datasets list -s 'Sentiment140 dataset with 1.6 million tweets'"
      ],
      "execution_count": null,
      "outputs": [
        {
          "output_type": "stream",
          "text": [
            "Warning: Looks like you're using an outdated API Version, please consider updating (server 1.5.10 / client 1.5.4)\n",
            "ref                                                    title                                          size  lastUpdated          downloadCount  \n",
            "-----------------------------------------------------  --------------------------------------------  -----  -------------------  -------------  \n",
            "kazanova/sentiment140                                  Sentiment140 dataset with 1.6 million tweets   81MB  2017-09-13 22:43:19          47194  \n",
            "grwche/sentiment                                       Sentiment                                       2GB  2020-04-23 23:29:23            100  \n",
            "raohammas/sentimental-analysis-trained-model-on-mlnet  Sentimental Analysis trained Model on ML.Net  120MB  2020-10-28 18:25:53              9  \n",
            "malikhasan/16-million-sentiment-tweets                 1.6 million sentiment tweets                   81MB  2020-04-14 22:54:15             14  \n"
          ],
          "name": "stdout"
        }
      ]
    },
    {
      "cell_type": "code",
      "metadata": {
        "colab": {
          "base_uri": "https://localhost:8080/"
        },
        "id": "WElwAmpYUb-9",
        "outputId": "755b9f2a-a38e-4eae-db67-3be5107feca5"
      },
      "source": [
        "!kaggle datasets download -d 'kazanova/sentiment140'\r\n",
        "!unzip 'sentiment140.zip'"
      ],
      "execution_count": null,
      "outputs": [
        {
          "output_type": "stream",
          "text": [
            "Downloading sentiment140.zip to /content\n",
            " 85% 69.0M/80.9M [00:00<00:00, 45.2MB/s]\n",
            "100% 80.9M/80.9M [00:00<00:00, 98.0MB/s]\n",
            "Archive:  sentiment140.zip\n",
            "  inflating: training.1600000.processed.noemoticon.csv  \n"
          ],
          "name": "stdout"
        }
      ]
    },
    {
      "cell_type": "code",
      "metadata": {
        "id": "2lo1gALWUuIQ"
      },
      "source": [
        "import pandas as pd\r\n",
        "import numpy as np\r\n",
        "\r\n",
        "names= [\"sentiment\",\"id\",\"date\",\"flag\",\"user\",\"text\"]\r\n",
        "encoding = \"ISO-8859-1\"\r\n",
        "df = pd.read_csv('/content/training.1600000.processed.noemoticon.csv', encoding=encoding ,names=names)"
      ],
      "execution_count": null,
      "outputs": []
    },
    {
      "cell_type": "code",
      "metadata": {
        "id": "g9TDmDh4VS3-"
      },
      "source": [
        "df = df.drop([\"id\",\"date\",\"flag\",\"user\"],axis=1)\r\n"
      ],
      "execution_count": null,
      "outputs": []
    },
    {
      "cell_type": "code",
      "metadata": {
        "colab": {
          "base_uri": "https://localhost:8080/",
          "height": 419
        },
        "id": "acRYuyE2VmrT",
        "outputId": "885ea7af-b2bc-4598-8ebc-4b86370a9209"
      },
      "source": [
        "df"
      ],
      "execution_count": null,
      "outputs": [
        {
          "output_type": "execute_result",
          "data": {
            "text/html": [
              "<div>\n",
              "<style scoped>\n",
              "    .dataframe tbody tr th:only-of-type {\n",
              "        vertical-align: middle;\n",
              "    }\n",
              "\n",
              "    .dataframe tbody tr th {\n",
              "        vertical-align: top;\n",
              "    }\n",
              "\n",
              "    .dataframe thead th {\n",
              "        text-align: right;\n",
              "    }\n",
              "</style>\n",
              "<table border=\"1\" class=\"dataframe\">\n",
              "  <thead>\n",
              "    <tr style=\"text-align: right;\">\n",
              "      <th></th>\n",
              "      <th>sentiment</th>\n",
              "      <th>text</th>\n",
              "    </tr>\n",
              "  </thead>\n",
              "  <tbody>\n",
              "    <tr>\n",
              "      <th>0</th>\n",
              "      <td>0</td>\n",
              "      <td>@switchfoot http://twitpic.com/2y1zl - Awww, t...</td>\n",
              "    </tr>\n",
              "    <tr>\n",
              "      <th>1</th>\n",
              "      <td>0</td>\n",
              "      <td>is upset that he can't update his Facebook by ...</td>\n",
              "    </tr>\n",
              "    <tr>\n",
              "      <th>2</th>\n",
              "      <td>0</td>\n",
              "      <td>@Kenichan I dived many times for the ball. Man...</td>\n",
              "    </tr>\n",
              "    <tr>\n",
              "      <th>3</th>\n",
              "      <td>0</td>\n",
              "      <td>my whole body feels itchy and like its on fire</td>\n",
              "    </tr>\n",
              "    <tr>\n",
              "      <th>4</th>\n",
              "      <td>0</td>\n",
              "      <td>@nationwideclass no, it's not behaving at all....</td>\n",
              "    </tr>\n",
              "    <tr>\n",
              "      <th>...</th>\n",
              "      <td>...</td>\n",
              "      <td>...</td>\n",
              "    </tr>\n",
              "    <tr>\n",
              "      <th>1599995</th>\n",
              "      <td>4</td>\n",
              "      <td>Just woke up. Having no school is the best fee...</td>\n",
              "    </tr>\n",
              "    <tr>\n",
              "      <th>1599996</th>\n",
              "      <td>4</td>\n",
              "      <td>TheWDB.com - Very cool to hear old Walt interv...</td>\n",
              "    </tr>\n",
              "    <tr>\n",
              "      <th>1599997</th>\n",
              "      <td>4</td>\n",
              "      <td>Are you ready for your MoJo Makeover? Ask me f...</td>\n",
              "    </tr>\n",
              "    <tr>\n",
              "      <th>1599998</th>\n",
              "      <td>4</td>\n",
              "      <td>Happy 38th Birthday to my boo of alll time!!! ...</td>\n",
              "    </tr>\n",
              "    <tr>\n",
              "      <th>1599999</th>\n",
              "      <td>4</td>\n",
              "      <td>happy #charitytuesday @theNSPCC @SparksCharity...</td>\n",
              "    </tr>\n",
              "  </tbody>\n",
              "</table>\n",
              "<p>1600000 rows × 2 columns</p>\n",
              "</div>"
            ],
            "text/plain": [
              "         sentiment                                               text\n",
              "0                0  @switchfoot http://twitpic.com/2y1zl - Awww, t...\n",
              "1                0  is upset that he can't update his Facebook by ...\n",
              "2                0  @Kenichan I dived many times for the ball. Man...\n",
              "3                0    my whole body feels itchy and like its on fire \n",
              "4                0  @nationwideclass no, it's not behaving at all....\n",
              "...            ...                                                ...\n",
              "1599995          4  Just woke up. Having no school is the best fee...\n",
              "1599996          4  TheWDB.com - Very cool to hear old Walt interv...\n",
              "1599997          4  Are you ready for your MoJo Makeover? Ask me f...\n",
              "1599998          4  Happy 38th Birthday to my boo of alll time!!! ...\n",
              "1599999          4  happy #charitytuesday @theNSPCC @SparksCharity...\n",
              "\n",
              "[1600000 rows x 2 columns]"
            ]
          },
          "metadata": {
            "tags": []
          },
          "execution_count": 18
        }
      ]
    },
    {
      "cell_type": "code",
      "metadata": {
        "colab": {
          "base_uri": "https://localhost:8080/",
          "height": 419
        },
        "id": "IHZKX9WLVr2_",
        "outputId": "1ddd4e0d-f83b-4f05-aacb-75013ba4902e"
      },
      "source": [
        "df['sentiment'] = df.sentiment.replace(4,1)\r\n",
        "df"
      ],
      "execution_count": null,
      "outputs": [
        {
          "output_type": "execute_result",
          "data": {
            "text/html": [
              "<div>\n",
              "<style scoped>\n",
              "    .dataframe tbody tr th:only-of-type {\n",
              "        vertical-align: middle;\n",
              "    }\n",
              "\n",
              "    .dataframe tbody tr th {\n",
              "        vertical-align: top;\n",
              "    }\n",
              "\n",
              "    .dataframe thead th {\n",
              "        text-align: right;\n",
              "    }\n",
              "</style>\n",
              "<table border=\"1\" class=\"dataframe\">\n",
              "  <thead>\n",
              "    <tr style=\"text-align: right;\">\n",
              "      <th></th>\n",
              "      <th>sentiment</th>\n",
              "      <th>text</th>\n",
              "    </tr>\n",
              "  </thead>\n",
              "  <tbody>\n",
              "    <tr>\n",
              "      <th>0</th>\n",
              "      <td>0</td>\n",
              "      <td>@switchfoot http://twitpic.com/2y1zl - Awww, t...</td>\n",
              "    </tr>\n",
              "    <tr>\n",
              "      <th>1</th>\n",
              "      <td>0</td>\n",
              "      <td>is upset that he can't update his Facebook by ...</td>\n",
              "    </tr>\n",
              "    <tr>\n",
              "      <th>2</th>\n",
              "      <td>0</td>\n",
              "      <td>@Kenichan I dived many times for the ball. Man...</td>\n",
              "    </tr>\n",
              "    <tr>\n",
              "      <th>3</th>\n",
              "      <td>0</td>\n",
              "      <td>my whole body feels itchy and like its on fire</td>\n",
              "    </tr>\n",
              "    <tr>\n",
              "      <th>4</th>\n",
              "      <td>0</td>\n",
              "      <td>@nationwideclass no, it's not behaving at all....</td>\n",
              "    </tr>\n",
              "    <tr>\n",
              "      <th>...</th>\n",
              "      <td>...</td>\n",
              "      <td>...</td>\n",
              "    </tr>\n",
              "    <tr>\n",
              "      <th>1599995</th>\n",
              "      <td>1</td>\n",
              "      <td>Just woke up. Having no school is the best fee...</td>\n",
              "    </tr>\n",
              "    <tr>\n",
              "      <th>1599996</th>\n",
              "      <td>1</td>\n",
              "      <td>TheWDB.com - Very cool to hear old Walt interv...</td>\n",
              "    </tr>\n",
              "    <tr>\n",
              "      <th>1599997</th>\n",
              "      <td>1</td>\n",
              "      <td>Are you ready for your MoJo Makeover? Ask me f...</td>\n",
              "    </tr>\n",
              "    <tr>\n",
              "      <th>1599998</th>\n",
              "      <td>1</td>\n",
              "      <td>Happy 38th Birthday to my boo of alll time!!! ...</td>\n",
              "    </tr>\n",
              "    <tr>\n",
              "      <th>1599999</th>\n",
              "      <td>1</td>\n",
              "      <td>happy #charitytuesday @theNSPCC @SparksCharity...</td>\n",
              "    </tr>\n",
              "  </tbody>\n",
              "</table>\n",
              "<p>1600000 rows × 2 columns</p>\n",
              "</div>"
            ],
            "text/plain": [
              "         sentiment                                               text\n",
              "0                0  @switchfoot http://twitpic.com/2y1zl - Awww, t...\n",
              "1                0  is upset that he can't update his Facebook by ...\n",
              "2                0  @Kenichan I dived many times for the ball. Man...\n",
              "3                0    my whole body feels itchy and like its on fire \n",
              "4                0  @nationwideclass no, it's not behaving at all....\n",
              "...            ...                                                ...\n",
              "1599995          1  Just woke up. Having no school is the best fee...\n",
              "1599996          1  TheWDB.com - Very cool to hear old Walt interv...\n",
              "1599997          1  Are you ready for your MoJo Makeover? Ask me f...\n",
              "1599998          1  Happy 38th Birthday to my boo of alll time!!! ...\n",
              "1599999          1  happy #charitytuesday @theNSPCC @SparksCharity...\n",
              "\n",
              "[1600000 rows x 2 columns]"
            ]
          },
          "metadata": {
            "tags": []
          },
          "execution_count": 19
        }
      ]
    },
    {
      "cell_type": "code",
      "metadata": {
        "id": "47j_SVR_Shaq"
      },
      "source": [
        "#3.import model -albert"
      ],
      "execution_count": null,
      "outputs": []
    },
    {
      "cell_type": "code",
      "metadata": {
        "colab": {
          "base_uri": "https://localhost:8080/"
        },
        "id": "UgU3ETodS4DZ",
        "outputId": "f473b409-f346-453f-a4cd-04bf051a1305"
      },
      "source": [
        "from transformers import AlbertTokenizer, TFAlbertModel\r\n",
        "tokenizer = AlbertTokenizer.from_pretrained('albert-base-v2')\r\n",
        "albert = TFAlbertModel.from_pretrained(\"albert-base-v2\")"
      ],
      "execution_count": null,
      "outputs": [
        {
          "output_type": "stream",
          "text": [
            "Some layers from the model checkpoint at albert-base-v2 were not used when initializing TFAlbertModel: ['predictions']\n",
            "- This IS expected if you are initializing TFAlbertModel from the checkpoint of a model trained on another task or with another architecture (e.g. initializing a BertForSequenceClassification model from a BertForPreTraining model).\n",
            "- This IS NOT expected if you are initializing TFAlbertModel from the checkpoint of a model that you expect to be exactly identical (initializing a BertForSequenceClassification model from a BertForSequenceClassification model).\n",
            "All the layers of TFAlbertModel were initialized from the model checkpoint at albert-base-v2.\n",
            "If your task is similar to the task the model of the checkpoint was trained on, you can already use TFAlbertModel for predictions without further training.\n"
          ],
          "name": "stderr"
        }
      ]
    },
    {
      "cell_type": "code",
      "metadata": {
        "colab": {
          "base_uri": "https://localhost:8080/"
        },
        "id": "2077BsaKWFS9",
        "outputId": "4b9e38ed-622b-483f-e910-4561ea975b9a"
      },
      "source": [
        "print(tokenizer), albert.summary()"
      ],
      "execution_count": null,
      "outputs": [
        {
          "output_type": "stream",
          "text": [
            "PreTrainedTokenizer(name_or_path='albert-base-v2', vocab_size=30000, model_max_len=512, is_fast=False, padding_side='right', special_tokens={'bos_token': '[CLS]', 'eos_token': '[SEP]', 'unk_token': '<unk>', 'sep_token': '[SEP]', 'pad_token': '<pad>', 'cls_token': '[CLS]', 'mask_token': '[MASK]'})\n",
            "Model: \"tf_albert_model_1\"\n",
            "_________________________________________________________________\n",
            "Layer (type)                 Output Shape              Param #   \n",
            "=================================================================\n",
            "albert (TFAlbertMainLayer)   multiple                  11683584  \n",
            "=================================================================\n",
            "Total params: 11,683,584\n",
            "Trainable params: 11,683,584\n",
            "Non-trainable params: 0\n",
            "_________________________________________________________________\n"
          ],
          "name": "stdout"
        },
        {
          "output_type": "execute_result",
          "data": {
            "text/plain": [
              "(None, None)"
            ]
          },
          "metadata": {
            "tags": []
          },
          "execution_count": 22
        }
      ]
    },
    {
      "cell_type": "code",
      "metadata": {
        "colab": {
          "base_uri": "https://localhost:8080/"
        },
        "id": "-gmn4PHqWTTO",
        "outputId": "da82547b-2527-4561-cb8e-a76e924eba5b"
      },
      "source": [
        "tokenizer(\"i am member of ai club\")"
      ],
      "execution_count": null,
      "outputs": [
        {
          "output_type": "execute_result",
          "data": {
            "text/plain": [
              "{'input_ids': [2, 31, 589, 322, 16, 21, 49, 288, 3], 'token_type_ids': [0, 0, 0, 0, 0, 0, 0, 0, 0], 'attention_mask': [1, 1, 1, 1, 1, 1, 1, 1, 1]}"
            ]
          },
          "metadata": {
            "tags": []
          },
          "execution_count": 24
        }
      ]
    },
    {
      "cell_type": "code",
      "metadata": {
        "id": "Pv09R5fxSlV-"
      },
      "source": [
        "#4.data preparation"
      ],
      "execution_count": null,
      "outputs": []
    },
    {
      "cell_type": "code",
      "metadata": {
        "id": "iZifiT3lS4Wf"
      },
      "source": [
        "from sklearn.model_selection import train_test_split\r\n",
        "X_train, X_test, y_train, y_test = train_test_split(df['text'], df['sentiment'], train_size=0.02, test_size=0.01, shuffle=True, stratify=df['sentiment'])"
      ],
      "execution_count": null,
      "outputs": []
    },
    {
      "cell_type": "code",
      "metadata": {
        "id": "3-R7-yM2XR1M"
      },
      "source": [
        "X_test, X_valid, y_test, y_valid = train_test_split(X_test, y_test, train_size=0.75, shuffle=True, stratify=y_test)"
      ],
      "execution_count": null,
      "outputs": []
    },
    {
      "cell_type": "code",
      "metadata": {
        "colab": {
          "base_uri": "https://localhost:8080/"
        },
        "id": "tdO9QT4DXhfr",
        "outputId": "b2b7d24c-33ed-4e60-c738-443f10097b9e"
      },
      "source": [
        "y_train.value_counts()"
      ],
      "execution_count": null,
      "outputs": [
        {
          "output_type": "execute_result",
          "data": {
            "text/plain": [
              "1    16000\n",
              "0    16000\n",
              "Name: sentiment, dtype: int64"
            ]
          },
          "metadata": {
            "tags": []
          },
          "execution_count": 29
        }
      ]
    },
    {
      "cell_type": "code",
      "metadata": {
        "id": "KqP2T2wkXqs1"
      },
      "source": [
        "train_ids= []\r\n",
        "train_att = []\r\n",
        "\r\n",
        "for i in X_train:\r\n",
        "  encoded_data = tokenizer.encode_plus(\r\n",
        "            i,\r\n",
        "            add_special_tokens=True,\r\n",
        "            max_length=128, # truncates if len(s) > max_length\r\n",
        "            return_attention_mask=True,\r\n",
        "            pad_to_max_length=True, # pads to the right by default # CHECK THIS for pad_to_max_length\r\n",
        "            truncation=True\r\n",
        "  )\r\n",
        "  train_ids.append(encoded_data['input_ids'])\r\n",
        "  train_att.append(encoded_data['attention_mask'])\r\n",
        "\r\n",
        "train_ids = np.array(train_ids)\r\n",
        "train_att = np.array(train_att)"
      ],
      "execution_count": null,
      "outputs": []
    },
    {
      "cell_type": "code",
      "metadata": {
        "colab": {
          "base_uri": "https://localhost:8080/"
        },
        "id": "IJMAwbISYbvc",
        "outputId": "f9067427-1237-48a7-a886-baeb11133f56"
      },
      "source": [
        "train_ids= []\r\n",
        "train_att = []\r\n",
        "\r\n",
        "for i in X_train:\r\n",
        "  encoded_data = tokenizer.encode_plus(\r\n",
        "            i,\r\n",
        "            add_special_tokens=True,\r\n",
        "            max_length=128, # truncates if len(s) > max_length\r\n",
        "            return_attention_mask=True,\r\n",
        "            pad_to_max_length=True, # pads to the right by default # CHECK THIS for pad_to_max_length\r\n",
        "            truncation=True\r\n",
        "  )\r\n",
        "  train_ids.append(encoded_data['input_ids'])\r\n",
        "  train_att.append(encoded_data['attention_mask'])\r\n",
        "\r\n",
        "train_ids = np.array(train_ids)\r\n",
        "train_att = np.array(train_att)"
      ],
      "execution_count": null,
      "outputs": [
        {
          "output_type": "stream",
          "text": [
            "/usr/local/lib/python3.6/dist-packages/transformers/tokenization_utils_base.py:2143: FutureWarning: The `pad_to_max_length` argument is deprecated and will be removed in a future version, use `padding=True` or `padding='longest'` to pad to the longest sequence in the batch, or use `padding='max_length'` to pad to a max length. In this case, you can give a specific length with `max_length` (e.g. `max_length=45`) or leave max_length to None to pad to the maximal input size of the model (e.g. 512 for Bert).\n",
            "  FutureWarning,\n"
          ],
          "name": "stderr"
        }
      ]
    },
    {
      "cell_type": "code",
      "metadata": {
        "colab": {
          "base_uri": "https://localhost:8080/"
        },
        "id": "ir7W8zx7YfsP",
        "outputId": "1272c2e6-7a14-4088-c1e4-66f0f50ab87a"
      },
      "source": [
        "test_ids= []\r\n",
        "test_att = []\r\n",
        "\r\n",
        "for i in X_test:\r\n",
        "  encoded_data = tokenizer.encode_plus(\r\n",
        "            i,\r\n",
        "            add_special_tokens=True,\r\n",
        "            max_length=128, # truncates if len(s) > max_length\r\n",
        "            return_attention_mask=True,\r\n",
        "            pad_to_max_length=True, # pads to the right by default # CHECK THIS for pad_to_max_length\r\n",
        "            truncation=True\r\n",
        "  )\r\n",
        "  test_ids.append(encoded_data['input_ids'])\r\n",
        "  test_att.append(encoded_data['attention_mask'])\r\n",
        "\r\n",
        "test_ids = np.array(test_ids)\r\n",
        "test_att = np.array(test_att)"
      ],
      "execution_count": null,
      "outputs": [
        {
          "output_type": "stream",
          "text": [
            "/usr/local/lib/python3.6/dist-packages/transformers/tokenization_utils_base.py:2143: FutureWarning: The `pad_to_max_length` argument is deprecated and will be removed in a future version, use `padding=True` or `padding='longest'` to pad to the longest sequence in the batch, or use `padding='max_length'` to pad to a max length. In this case, you can give a specific length with `max_length` (e.g. `max_length=45`) or leave max_length to None to pad to the maximal input size of the model (e.g. 512 for Bert).\n",
            "  FutureWarning,\n"
          ],
          "name": "stderr"
        }
      ]
    },
    {
      "cell_type": "code",
      "metadata": {
        "colab": {
          "base_uri": "https://localhost:8080/"
        },
        "id": "LqbqQLwDYo0J",
        "outputId": "9dcb105e-751f-4f85-f517-8334c3b83fa5"
      },
      "source": [
        "valid_ids= []\r\n",
        "valid_att = []\r\n",
        "\r\n",
        "for i in X_valid:\r\n",
        "  encoded_data = tokenizer.encode_plus(\r\n",
        "            i,\r\n",
        "            add_special_tokens=True,\r\n",
        "            max_length=128, # truncates if len(s) > max_length\r\n",
        "            return_attention_mask=True,\r\n",
        "            pad_to_max_length=True, # pads to the right by default # CHECK THIS for pad_to_max_length\r\n",
        "            truncation=True\r\n",
        "  )\r\n",
        "  valid_ids.append(encoded_data['input_ids'])\r\n",
        "  valid_att.append(encoded_data['attention_mask'])\r\n",
        "\r\n",
        "valid_ids = np.array(valid_ids)\r\n",
        "valid_att = np.array(valid_att)"
      ],
      "execution_count": null,
      "outputs": [
        {
          "output_type": "stream",
          "text": [
            "/usr/local/lib/python3.6/dist-packages/transformers/tokenization_utils_base.py:2143: FutureWarning: The `pad_to_max_length` argument is deprecated and will be removed in a future version, use `padding=True` or `padding='longest'` to pad to the longest sequence in the batch, or use `padding='max_length'` to pad to a max length. In this case, you can give a specific length with `max_length` (e.g. `max_length=45`) or leave max_length to None to pad to the maximal input size of the model (e.g. 512 for Bert).\n",
            "  FutureWarning,\n"
          ],
          "name": "stderr"
        }
      ]
    },
    {
      "cell_type": "code",
      "metadata": {
        "id": "o4UjBNsaSpff"
      },
      "source": [
        "#5.fine turning model "
      ],
      "execution_count": null,
      "outputs": []
    },
    {
      "cell_type": "code",
      "metadata": {
        "id": "e62se8ozZbH2"
      },
      "source": [
        "import tensorflow as tf\r\n"
      ],
      "execution_count": null,
      "outputs": []
    },
    {
      "cell_type": "code",
      "metadata": {
        "id": "iLFn36S-S4s5"
      },
      "source": [
        "def build_model(mod):\r\n",
        "\r\n",
        "  ids=tf.keras.layers.Input((128,),dtype=tf.int32)\r\n",
        "  att=tf.keras.layers.Input((128,),dtype=tf.int32)\r\n",
        "\r\n",
        "  x=mod(ids, attention_mask=att)\r\n",
        "\r\n",
        "  layer1 = tf.keras.layers.Dense(128, activation='relu')(x[1])\r\n",
        "  drop1 = tf.keras.layers.Dropout(0.4)(layer1)\r\n",
        "  layer2 = tf.keras.layers.Dense(64, activation='relu')(drop1)\r\n",
        "  drop2 = tf.keras.layers.Dropout(0.4)(layer2)\r\n",
        "  layer3 = tf.keras.layers.Dense(64, activation='relu')(drop2)\r\n",
        "  drop3 = tf.keras.layers.Dropout(0.4)(layer3)\r\n",
        "  output = tf.keras.layers.Dense(1, activation='sigmoid')(drop3)\r\n",
        "\r\n",
        "  model = tf.keras.Model(inputs = [ids,att], outputs=[output])\r\n",
        "  #model.compile(optimizer=tf.keras.optimizers.Adam(3e-5),loss='binary_crossentropy',metrics=tf.keras.metrics.BinaryAccuracy())\r\n",
        "  return model\r\n"
      ],
      "execution_count": null,
      "outputs": []
    },
    {
      "cell_type": "code",
      "metadata": {
        "colab": {
          "base_uri": "https://localhost:8080/"
        },
        "id": "74p-PDmcaSUp",
        "outputId": "c1c5ccbf-f643-4ac6-e2d5-205a3ee5fef8"
      },
      "source": [
        "model2 = build_model(albert)\r\n",
        "model2.compile(optimizer=tf.keras.optimizers.Adam(3e-5),loss='binary_crossentropy',metrics=tf.keras.metrics.BinaryAccuracy())"
      ],
      "execution_count": null,
      "outputs": [
        {
          "output_type": "stream",
          "text": [
            "The parameters `output_attentions`, `output_hidden_states` and `use_cache` cannot be updated when calling a model.They have to be set to True/False in the config object (i.e.: `config=XConfig.from_pretrained('name', output_attentions=True)`).\n",
            "The parameter `return_dict` cannot be set in graph mode and will always be set to `True`.\n"
          ],
          "name": "stderr"
        }
      ]
    },
    {
      "cell_type": "code",
      "metadata": {
        "colab": {
          "base_uri": "https://localhost:8080/"
        },
        "id": "4PI5B_gkaplV",
        "outputId": "5ab4e3f9-118e-4717-e89c-cf928bd8c12e"
      },
      "source": [
        "model2.summary()"
      ],
      "execution_count": null,
      "outputs": [
        {
          "output_type": "stream",
          "text": [
            "Model: \"model\"\n",
            "__________________________________________________________________________________________________\n",
            "Layer (type)                    Output Shape         Param #     Connected to                     \n",
            "==================================================================================================\n",
            "input_3 (InputLayer)            [(None, 128)]        0                                            \n",
            "__________________________________________________________________________________________________\n",
            "input_4 (InputLayer)            [(None, 128)]        0                                            \n",
            "__________________________________________________________________________________________________\n",
            "tf_albert_model_1 (TFAlbertMode TFBaseModelOutputWit 11683584    input_3[0][0]                    \n",
            "                                                                 input_4[0][0]                    \n",
            "__________________________________________________________________________________________________\n",
            "dense_4 (Dense)                 (None, 128)          98432       tf_albert_model_1[1][1]          \n",
            "__________________________________________________________________________________________________\n",
            "dropout_11 (Dropout)            (None, 128)          0           dense_4[0][0]                    \n",
            "__________________________________________________________________________________________________\n",
            "dense_5 (Dense)                 (None, 64)           8256        dropout_11[0][0]                 \n",
            "__________________________________________________________________________________________________\n",
            "dropout_12 (Dropout)            (None, 64)           0           dense_5[0][0]                    \n",
            "__________________________________________________________________________________________________\n",
            "dense_6 (Dense)                 (None, 64)           4160        dropout_12[0][0]                 \n",
            "__________________________________________________________________________________________________\n",
            "dropout_13 (Dropout)            (None, 64)           0           dense_6[0][0]                    \n",
            "__________________________________________________________________________________________________\n",
            "dense_7 (Dense)                 (None, 1)            65          dropout_13[0][0]                 \n",
            "==================================================================================================\n",
            "Total params: 11,794,497\n",
            "Trainable params: 11,794,497\n",
            "Non-trainable params: 0\n",
            "__________________________________________________________________________________________________\n"
          ],
          "name": "stdout"
        }
      ]
    },
    {
      "cell_type": "code",
      "metadata": {
        "id": "XvlwnHxnSwfI"
      },
      "source": [
        "#6.training and prediction"
      ],
      "execution_count": null,
      "outputs": []
    },
    {
      "cell_type": "code",
      "metadata": {
        "colab": {
          "base_uri": "https://localhost:8080/"
        },
        "id": "dvNMAaENSzfy",
        "outputId": "1d30c947-2dc0-4930-b5a4-7ef01adb9e8b"
      },
      "source": [
        "hist = model2.fit(x=[train_ids[:10],train_att[:10]],y=[y_train[:10]], epochs=10, batch_size=32, verbose=1, validation_data=([valid_ids[:10],valid_att[:10]],y_valid[:10]))"
      ],
      "execution_count": null,
      "outputs": [
        {
          "output_type": "stream",
          "text": [
            "The parameters `output_attentions`, `output_hidden_states` and `use_cache` cannot be updated when calling a model.They have to be set to True/False in the config object (i.e.: `config=XConfig.from_pretrained('name', output_attentions=True)`).\n",
            "The parameter `return_dict` cannot be set in graph mode and will always be set to `True`.\n"
          ],
          "name": "stderr"
        },
        {
          "output_type": "stream",
          "text": [
            "Epoch 1/10\n"
          ],
          "name": "stdout"
        },
        {
          "output_type": "stream",
          "text": [
            "The parameters `output_attentions`, `output_hidden_states` and `use_cache` cannot be updated when calling a model.They have to be set to True/False in the config object (i.e.: `config=XConfig.from_pretrained('name', output_attentions=True)`).\n",
            "The parameter `return_dict` cannot be set in graph mode and will always be set to `True`.\n"
          ],
          "name": "stderr"
        },
        {
          "output_type": "stream",
          "text": [
            "\r1/1 [==============================] - ETA: 0s - loss: 0.9018 - binary_accuracy: 0.3000"
          ],
          "name": "stdout"
        },
        {
          "output_type": "stream",
          "text": [
            "The parameters `output_attentions`, `output_hidden_states` and `use_cache` cannot be updated when calling a model.They have to be set to True/False in the config object (i.e.: `config=XConfig.from_pretrained('name', output_attentions=True)`).\n",
            "The parameter `return_dict` cannot be set in graph mode and will always be set to `True`.\n"
          ],
          "name": "stderr"
        },
        {
          "output_type": "stream",
          "text": [
            "\b\b\b\b\b\b\b\b\b\b\b\b\b\b\b\b\b\b\b\b\b\b\b\b\b\b\b\b\b\b\b\b\b\b\b\b\b\b\b\b\b\b\b\b\b\b\b\b\b\b\b\b\b\b\b\b\b\b\b\b\b\b\b\b\b\b\b\b\b\b\b\b\b\b\b\b\b\b\b\b\b\b\b\b\b\b\b\r1/1 [==============================] - 15s 15s/step - loss: 0.9018 - binary_accuracy: 0.3000 - val_loss: 0.6852 - val_binary_accuracy: 0.6000\n",
            "Epoch 2/10\n",
            "1/1 [==============================] - 0s 439ms/step - loss: 0.9000 - binary_accuracy: 0.5000 - val_loss: 0.6954 - val_binary_accuracy: 0.5000\n",
            "Epoch 3/10\n",
            "1/1 [==============================] - 0s 393ms/step - loss: 0.7282 - binary_accuracy: 0.5000 - val_loss: 0.6940 - val_binary_accuracy: 0.5000\n",
            "Epoch 4/10\n",
            "1/1 [==============================] - 0s 403ms/step - loss: 0.5327 - binary_accuracy: 0.7000 - val_loss: 0.6961 - val_binary_accuracy: 0.4000\n",
            "Epoch 5/10\n",
            "1/1 [==============================] - 0s 400ms/step - loss: 0.6647 - binary_accuracy: 0.7000 - val_loss: 0.6819 - val_binary_accuracy: 0.4000\n",
            "Epoch 6/10\n",
            "1/1 [==============================] - 0s 395ms/step - loss: 1.0512 - binary_accuracy: 0.2000 - val_loss: 0.6727 - val_binary_accuracy: 0.4000\n",
            "Epoch 7/10\n",
            "1/1 [==============================] - 0s 401ms/step - loss: 0.6598 - binary_accuracy: 0.6000 - val_loss: 0.6655 - val_binary_accuracy: 0.5000\n",
            "Epoch 8/10\n",
            "1/1 [==============================] - 0s 395ms/step - loss: 0.6736 - binary_accuracy: 0.7000 - val_loss: 0.6617 - val_binary_accuracy: 0.5000\n",
            "Epoch 9/10\n",
            "1/1 [==============================] - 0s 393ms/step - loss: 0.5810 - binary_accuracy: 0.7000 - val_loss: 0.6599 - val_binary_accuracy: 0.5000\n",
            "Epoch 10/10\n",
            "1/1 [==============================] - 0s 397ms/step - loss: 0.7944 - binary_accuracy: 0.6000 - val_loss: 0.6613 - val_binary_accuracy: 0.6000\n"
          ],
          "name": "stdout"
        }
      ]
    },
    {
      "cell_type": "code",
      "metadata": {
        "colab": {
          "base_uri": "https://localhost:8080/"
        },
        "id": "d4SM4BEKbd-Z",
        "outputId": "db66048c-61b0-4b61-bf7d-82de91b74481"
      },
      "source": [
        "from google.colab import drive\r\n",
        "drive.mount('/content/drive')"
      ],
      "execution_count": null,
      "outputs": [
        {
          "output_type": "stream",
          "text": [
            "Mounted at /content/drive\n"
          ],
          "name": "stdout"
        }
      ]
    },
    {
      "cell_type": "code",
      "metadata": {
        "id": "TvA-WIaWb1c2"
      },
      "source": [
        "model2.load_weights('/content/drive/MyDrive/Colab Notebooks/Albert_.h5')"
      ],
      "execution_count": null,
      "outputs": []
    },
    {
      "cell_type": "code",
      "metadata": {
        "colab": {
          "base_uri": "https://localhost:8080/"
        },
        "id": "q2ocxEvwcDdV",
        "outputId": "f7cb898b-a809-41b2-9603-bdc6d42669b5"
      },
      "source": [
        "predict = model2.predict([test_ids[:10], test_att[:10]],batch_size=32)"
      ],
      "execution_count": null,
      "outputs": [
        {
          "output_type": "stream",
          "text": [
            "The parameters `output_attentions`, `output_hidden_states` and `use_cache` cannot be updated when calling a model.They have to be set to True/False in the config object (i.e.: `config=XConfig.from_pretrained('name', output_attentions=True)`).\n",
            "The parameter `return_dict` cannot be set in graph mode and will always be set to `True`.\n"
          ],
          "name": "stderr"
        }
      ]
    },
    {
      "cell_type": "code",
      "metadata": {
        "id": "WZExbuvjcTGz"
      },
      "source": [
        "predict= predict.round()"
      ],
      "execution_count": null,
      "outputs": []
    },
    {
      "cell_type": "code",
      "metadata": {
        "id": "vR9p6ijJaJMR"
      },
      "source": [
        "from sklearn.metrics import accuracy_score\r\n",
        "accuracy = accuracy_score(y_test[:10], predict)"
      ],
      "execution_count": null,
      "outputs": []
    },
    {
      "cell_type": "code",
      "metadata": {
        "colab": {
          "base_uri": "https://localhost:8080/"
        },
        "id": "69vl4qOYaJMS",
        "outputId": "8de1bf12-b2ed-4b36-ac7a-37faa3093c87"
      },
      "source": [
        "accuracy"
      ],
      "execution_count": null,
      "outputs": [
        {
          "output_type": "execute_result",
          "data": {
            "text/plain": [
              "0.8"
            ]
          },
          "metadata": {
            "tags": []
          },
          "execution_count": 54
        }
      ]
    },
    {
      "cell_type": "code",
      "metadata": {
        "id": "woaz_Gh_cjmd"
      },
      "source": [
        ""
      ],
      "execution_count": null,
      "outputs": []
    }
  ]
}